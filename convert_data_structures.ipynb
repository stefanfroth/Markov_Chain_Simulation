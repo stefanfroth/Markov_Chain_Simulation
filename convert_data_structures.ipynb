{
 "cells": [
  {
   "cell_type": "code",
   "execution_count": 56,
   "metadata": {},
   "outputs": [],
   "source": [
    "import pandas as pd"
   ]
  },
  {
   "cell_type": "code",
   "execution_count": 63,
   "metadata": {},
   "outputs": [],
   "source": [
    "spices = ['One-Hot Chili Peppers',\n",
    "          'Bayesian Basil',\n",
    "          'Tensor Thyme',\n",
    "          'Linear Lavender',\n",
    "          'Artificial Neural Nutmeg',\n",
    "          'Polynomial Peppermint',\n",
    "          'Sigmoid Saffron',\n",
    "          'Hypepperameters'\n",
    "          ]\n",
    "          \n",
    "participants = [2, 6, 9, 9, 9, 8, 10, 10]"
   ]
  },
  {
   "cell_type": "code",
   "execution_count": 64,
   "metadata": {},
   "outputs": [
    {
     "data": {
      "text/plain": [
       "True"
      ]
     },
     "execution_count": 64,
     "metadata": {},
     "output_type": "execute_result"
    }
   ],
   "source": [
    "len(spices) == len(participants)"
   ]
  },
  {
   "cell_type": "code",
   "execution_count": 72,
   "metadata": {},
   "outputs": [
    {
     "data": {
      "text/plain": [
       "[('One-Hot Chili Peppers', 2),\n",
       " ('Bayesian Basil', 6),\n",
       " ('Tensor Thyme', 9),\n",
       " ('Linear Lavender', 9),\n",
       " ('Artificial Neural Nutmeg', 9),\n",
       " ('Polynomial Peppermint', 8),\n",
       " ('Sigmoid Saffron', 10),\n",
       " ('Hypepperameters', 10)]"
      ]
     },
     "execution_count": 72,
     "metadata": {},
     "output_type": "execute_result"
    }
   ],
   "source": [
    "#1. Create a list of lists from the data\n",
    "list(zip(spices, participants))"
   ]
  },
  {
   "cell_type": "code",
   "execution_count": 73,
   "metadata": {},
   "outputs": [
    {
     "data": {
      "text/plain": [
       "[['One-Hot Chili Peppers', 2],\n",
       " ['Bayesian Basil', 6],\n",
       " ['Tensor Thyme', 9],\n",
       " ['Linear Lavender', 9],\n",
       " ['Artificial Neural Nutmeg', 9],\n",
       " ['Polynomial Peppermint', 8],\n",
       " ['Sigmoid Saffron', 10],\n",
       " ['Hypepperameters', 10]]"
      ]
     },
     "execution_count": 73,
     "metadata": {},
     "output_type": "execute_result"
    }
   ],
   "source": [
    "#1. Create a list of lists from the data\n",
    "l = [[x, y] for x, y in zip(spices, participants)]\n",
    "l"
   ]
  },
  {
   "cell_type": "code",
   "execution_count": 74,
   "metadata": {},
   "outputs": [],
   "source": [
    "#1. Create a list of lists from the data\n",
    "spices = [[x] for x in spices]\n",
    "participants = [[x] for x in participants]"
   ]
  },
  {
   "cell_type": "code",
   "execution_count": 76,
   "metadata": {},
   "outputs": [
    {
     "data": {
      "text/plain": [
       "{'One-Hot Chili Peppers': 2,\n",
       " 'Bayesian Basil': 6,\n",
       " 'Tensor Thyme': 9,\n",
       " 'Linear Lavender': 9,\n",
       " 'Artificial Neural Nutmeg': 9,\n",
       " 'Polynomial Peppermint': 8,\n",
       " 'Sigmoid Saffron': 10,\n",
       " 'Hypepperameters': 10}"
      ]
     },
     "execution_count": 76,
     "metadata": {},
     "output_type": "execute_result"
    }
   ],
   "source": [
    "dict_ = dict(l)\n",
    "dict_"
   ]
  },
  {
   "cell_type": "code",
   "execution_count": 60,
   "metadata": {},
   "outputs": [
    {
     "data": {
      "text/plain": [
       "{'One-Hot Chili Peppers': 2,\n",
       " 'Bayesian Basil': 6,\n",
       " 'Tensor Thyme': 9,\n",
       " 'Linear Lavender': 9,\n",
       " 'Artificial Neural Nutmeg': 9,\n",
       " 'Polynomial Peppermint': 8,\n",
       " 'Sigmoid Saffron': 10,\n",
       " 'Hypepperameters': 10}"
      ]
     },
     "execution_count": 60,
     "metadata": {},
     "output_type": "execute_result"
    }
   ],
   "source": [
    "#2. Create a dictionary from the data\n",
    "d = {}\n",
    "\n",
    "for i in range(len(spices)):\n",
    "    d[spices[i][0]] = participants[i][0]\n",
    "    \n",
    "d"
   ]
  },
  {
   "cell_type": "code",
   "execution_count": 61,
   "metadata": {},
   "outputs": [
    {
     "data": {
      "text/html": [
       "<div>\n",
       "<style scoped>\n",
       "    .dataframe tbody tr th:only-of-type {\n",
       "        vertical-align: middle;\n",
       "    }\n",
       "\n",
       "    .dataframe tbody tr th {\n",
       "        vertical-align: top;\n",
       "    }\n",
       "\n",
       "    .dataframe thead th {\n",
       "        text-align: right;\n",
       "    }\n",
       "</style>\n",
       "<table border=\"1\" class=\"dataframe\">\n",
       "  <thead>\n",
       "    <tr style=\"text-align: right;\">\n",
       "      <th></th>\n",
       "      <th>nr_of_students</th>\n",
       "    </tr>\n",
       "  </thead>\n",
       "  <tbody>\n",
       "    <tr>\n",
       "      <th>One-Hot Chili Peppers</th>\n",
       "      <td>2</td>\n",
       "    </tr>\n",
       "    <tr>\n",
       "      <th>Bayesian Basil</th>\n",
       "      <td>6</td>\n",
       "    </tr>\n",
       "    <tr>\n",
       "      <th>Tensor Thyme</th>\n",
       "      <td>9</td>\n",
       "    </tr>\n",
       "    <tr>\n",
       "      <th>Linear Lavender</th>\n",
       "      <td>9</td>\n",
       "    </tr>\n",
       "    <tr>\n",
       "      <th>Artificial Neural Nutmeg</th>\n",
       "      <td>9</td>\n",
       "    </tr>\n",
       "    <tr>\n",
       "      <th>Polynomial Peppermint</th>\n",
       "      <td>8</td>\n",
       "    </tr>\n",
       "    <tr>\n",
       "      <th>Sigmoid Saffron</th>\n",
       "      <td>10</td>\n",
       "    </tr>\n",
       "    <tr>\n",
       "      <th>Hypepperameters</th>\n",
       "      <td>10</td>\n",
       "    </tr>\n",
       "  </tbody>\n",
       "</table>\n",
       "</div>"
      ],
      "text/plain": [
       "                          nr_of_students\n",
       "One-Hot Chili Peppers                  2\n",
       "Bayesian Basil                         6\n",
       "Tensor Thyme                           9\n",
       "Linear Lavender                        9\n",
       "Artificial Neural Nutmeg               9\n",
       "Polynomial Peppermint                  8\n",
       "Sigmoid Saffron                       10\n",
       "Hypepperameters                       10"
      ]
     },
     "execution_count": 61,
     "metadata": {},
     "output_type": "execute_result"
    }
   ],
   "source": [
    "#3. Create a DataFrame\n",
    "df = pd.DataFrame(d, index=['nr_of_students'])\n",
    "df = df.T\n",
    "df"
   ]
  },
  {
   "cell_type": "code",
   "execution_count": 80,
   "metadata": {},
   "outputs": [
    {
     "data": {
      "text/plain": [
       "[['One-Hot Chili Peppers', 2],\n",
       " ['Bayesian Basil', 6],\n",
       " ['Tensor Thyme', 9],\n",
       " ['Linear Lavender', 9],\n",
       " ['Artificial Neural Nutmeg', 9],\n",
       " ['Polynomial Peppermint', 8],\n",
       " ['Sigmoid Saffron', 10],\n",
       " ['Hypepperameters', 10]]"
      ]
     },
     "execution_count": 80,
     "metadata": {},
     "output_type": "execute_result"
    }
   ],
   "source": [
    "#4. Convert the DataFrame back to a list of lists\n",
    "df = df.reset_index()\n",
    "lol = df.values.tolist()\n",
    "lol"
   ]
  },
  {
   "cell_type": "code",
   "execution_count": 83,
   "metadata": {},
   "outputs": [],
   "source": [
    "#5. Convert the dictionary back to a list of lists\n",
    "new_list = []\n",
    "for key, value in d.items():\n",
    "    new_list.append([key, value])"
   ]
  },
  {
   "cell_type": "code",
   "execution_count": 84,
   "metadata": {},
   "outputs": [
    {
     "data": {
      "text/plain": [
       "[['One-Hot Chili Peppers', 2],\n",
       " ['Bayesian Basil', 6],\n",
       " ['Tensor Thyme', 9],\n",
       " ['Linear Lavender', 9],\n",
       " ['Artificial Neural Nutmeg', 9],\n",
       " ['Polynomial Peppermint', 8],\n",
       " ['Sigmoid Saffron', 10],\n",
       " ['Hypepperameters', 10]]"
      ]
     },
     "execution_count": 84,
     "metadata": {},
     "output_type": "execute_result"
    }
   ],
   "source": [
    "new_list"
   ]
  },
  {
   "cell_type": "code",
   "execution_count": 86,
   "metadata": {},
   "outputs": [],
   "source": [
    "n_list = [[key, value] for key, value in d.items()]"
   ]
  },
  {
   "cell_type": "code",
   "execution_count": 87,
   "metadata": {},
   "outputs": [
    {
     "data": {
      "text/plain": [
       "[['One-Hot Chili Peppers', 2],\n",
       " ['Bayesian Basil', 6],\n",
       " ['Tensor Thyme', 9],\n",
       " ['Linear Lavender', 9],\n",
       " ['Artificial Neural Nutmeg', 9],\n",
       " ['Polynomial Peppermint', 8],\n",
       " ['Sigmoid Saffron', 10],\n",
       " ['Hypepperameters', 10]]"
      ]
     },
     "execution_count": 87,
     "metadata": {},
     "output_type": "execute_result"
    }
   ],
   "source": [
    "n_list"
   ]
  },
  {
   "cell_type": "code",
   "execution_count": 88,
   "metadata": {},
   "outputs": [
    {
     "data": {
      "text/plain": [
       "[['One-Hot Chili Peppers', 2],\n",
       " ['Bayesian Basil', 6],\n",
       " ['Tensor Thyme', 9],\n",
       " ['Linear Lavender', 9],\n",
       " ['Artificial Neural Nutmeg', 9],\n",
       " ['Polynomial Peppermint', 8],\n",
       " ['Sigmoid Saffron', 10],\n",
       " ['Hypepperameters', 10]]"
      ]
     },
     "execution_count": 88,
     "metadata": {},
     "output_type": "execute_result"
    }
   ],
   "source": [
    "list(map(list, d.items()))"
   ]
  },
  {
   "cell_type": "code",
   "execution_count": null,
   "metadata": {},
   "outputs": [],
   "source": []
  }
 ],
 "metadata": {
  "kernelspec": {
   "display_name": "Python 3",
   "language": "python",
   "name": "python3"
  },
  "language_info": {
   "codemirror_mode": {
    "name": "ipython",
    "version": 3
   },
   "file_extension": ".py",
   "mimetype": "text/x-python",
   "name": "python",
   "nbconvert_exporter": "python",
   "pygments_lexer": "ipython3",
   "version": "3.6.7"
  }
 },
 "nbformat": 4,
 "nbformat_minor": 2
}
