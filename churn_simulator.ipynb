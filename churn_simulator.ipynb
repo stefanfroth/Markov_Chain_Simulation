{
 "cells": [
  {
   "cell_type": "markdown",
   "metadata": {},
   "source": [
    "Challenge: Write a Churn Simulator\n",
    "==================================\n",
    "\n",
    "- Start with a single customer in a random initial state (A, B, C)\n",
    " * What data type to use for the customer state?\n",
    "- Change the state randomly using a transition probability matrix P\n",
    " * What values to use for the probability matrix?\n",
    " * What data type to use for the probability matrix\n",
    "- Simulate N time steps in the same way\n",
    "- write the sequence of states to an output file\n",
    " * What is the overall structure of the program?\n",
    "\n",
    "--------------------------------------\n",
    "\n",
    "- Do the same but for M customers\n",
    "- Add new customers to the system at every time step\n",
    "- Structure the code, clean it up, put it on GitHub etc.\n",
    " * What functions do I need?\n",
    "\n",
    "--------------------------------------\n",
    "\n",
    "OPTIONAL:\n",
    "\n",
    "- Price the products, estimate customer lifetime value (CLV)\n",
    "- Plot the number of customers in each state\n",
    "- Try to find a steady state"
   ]
  },
  {
   "cell_type": "code",
   "execution_count": 1,
   "metadata": {},
   "outputs": [],
   "source": [
    "import pandas as pd\n",
    "import numpy as np"
   ]
  },
  {
   "cell_type": "code",
   "execution_count": 2,
   "metadata": {},
   "outputs": [],
   "source": [
    "# create a list that contains all the possible states\n",
    "STATES = ['Apple', 'Banana', 'Coffee', 'Doughnut', 'churned']\n",
    "\n",
    "# create a list that saves the history of the states\n",
    "HISTORY = []\n",
    "\n",
    "# create a dictionary for the state vector creation\n",
    "D = {'Apple': 0, 'Banana': 1, 'Coffee': 2, 'Doughnut': 3, 'churned': 4}\n",
    "\n",
    "# chose the number of steps for the simmulation\n",
    "N = 10"
   ]
  },
  {
   "cell_type": "code",
   "execution_count": 3,
   "metadata": {},
   "outputs": [],
   "source": [
    "# create a random initial state\n",
    "def initial_state(states):\n",
    "    \n",
    "    '''\n",
    "    This function takes a list of possible states as an input and\n",
    "    returns the initial state\n",
    "    '''\n",
    "    \n",
    "    initial_state = np.random.choice(states, size=1)\n",
    "    initial_state = np.asscalar(initial_state)\n",
    "    return initial_state"
   ]
  },
  {
   "cell_type": "code",
   "execution_count": 4,
   "metadata": {},
   "outputs": [],
   "source": [
    "# create an array for the next state\n",
    "def next_state(initial, transition, states, dict_):\n",
    "    \n",
    "    '''\n",
    "    This function takes in the inital state and the transition probability matrix and passes on the next state\n",
    "    '''\n",
    "    state = np.array([0] * 5)\n",
    "    state[dict_[initial]] = 1\n",
    "    \n",
    "    between_state = np.matmul(state.T, transition)\n",
    "    \n",
    "    new_state = np.random.choice(states, p=between_state, size=1)\n",
    "    return np.asscalar(new_state)"
   ]
  },
  {
   "cell_type": "markdown",
   "metadata": {},
   "source": [
    "1) Load the customer matrix and the transition probability matrix"
   ]
  },
  {
   "cell_type": "code",
   "execution_count": 5,
   "metadata": {},
   "outputs": [],
   "source": [
    "cust = pd.read_csv('./data/customer_matrix.csv', index_col=0)\n",
    "trans = pd.read_csv('./data/transition_probabilities.csv', index_col=0)"
   ]
  },
  {
   "cell_type": "markdown",
   "metadata": {},
   "source": [
    "2) Start with a single customer in a random initial state (=random flavor)\n",
    " * What data type to use for the customer state?\n",
    " -> start with a numpy array"
   ]
  },
  {
   "cell_type": "code",
   "execution_count": 6,
   "metadata": {},
   "outputs": [
    {
     "data": {
      "text/html": [
       "<div>\n",
       "<style scoped>\n",
       "    .dataframe tbody tr th:only-of-type {\n",
       "        vertical-align: middle;\n",
       "    }\n",
       "\n",
       "    .dataframe tbody tr th {\n",
       "        vertical-align: top;\n",
       "    }\n",
       "\n",
       "    .dataframe thead th {\n",
       "        text-align: right;\n",
       "    }\n",
       "</style>\n",
       "<table border=\"1\" class=\"dataframe\">\n",
       "  <thead>\n",
       "    <tr style=\"text-align: right;\">\n",
       "      <th></th>\n",
       "      <th>Apple</th>\n",
       "      <th>Banana</th>\n",
       "      <th>Coffee</th>\n",
       "      <th>Doughnut</th>\n",
       "      <th>churned</th>\n",
       "    </tr>\n",
       "  </thead>\n",
       "  <tbody>\n",
       "    <tr>\n",
       "      <th>Apple</th>\n",
       "      <td>0.092487</td>\n",
       "      <td>0.124075</td>\n",
       "      <td>0.103017</td>\n",
       "      <td>0.056915</td>\n",
       "      <td>0.623506</td>\n",
       "    </tr>\n",
       "    <tr>\n",
       "      <th>Banana</th>\n",
       "      <td>0.100091</td>\n",
       "      <td>0.144928</td>\n",
       "      <td>0.131793</td>\n",
       "      <td>0.072464</td>\n",
       "      <td>0.550725</td>\n",
       "    </tr>\n",
       "    <tr>\n",
       "      <th>Coffee</th>\n",
       "      <td>0.101566</td>\n",
       "      <td>0.146353</td>\n",
       "      <td>0.124572</td>\n",
       "      <td>0.099853</td>\n",
       "      <td>0.527655</td>\n",
       "    </tr>\n",
       "    <tr>\n",
       "      <th>Doughnut</th>\n",
       "      <td>0.063365</td>\n",
       "      <td>0.100584</td>\n",
       "      <td>0.113196</td>\n",
       "      <td>0.098431</td>\n",
       "      <td>0.624423</td>\n",
       "    </tr>\n",
       "    <tr>\n",
       "      <th>churned</th>\n",
       "      <td>0.000000</td>\n",
       "      <td>0.000000</td>\n",
       "      <td>0.000000</td>\n",
       "      <td>0.000000</td>\n",
       "      <td>1.000000</td>\n",
       "    </tr>\n",
       "  </tbody>\n",
       "</table>\n",
       "</div>"
      ],
      "text/plain": [
       "             Apple    Banana    Coffee  Doughnut   churned\n",
       "Apple     0.092487  0.124075  0.103017  0.056915  0.623506\n",
       "Banana    0.100091  0.144928  0.131793  0.072464  0.550725\n",
       "Coffee    0.101566  0.146353  0.124572  0.099853  0.527655\n",
       "Doughnut  0.063365  0.100584  0.113196  0.098431  0.624423\n",
       "churned   0.000000  0.000000  0.000000  0.000000  1.000000"
      ]
     },
     "execution_count": 6,
     "metadata": {},
     "output_type": "execute_result"
    }
   ],
   "source": [
    "# Add the probabilites from the state 'churned'\n",
    "churn_row = pd.DataFrame([[0, 0, 0, 0, 1]], columns=trans.columns)\n",
    "trans = trans.append(churn_row)\n",
    "trans = trans.rename({0: 'churned'}, axis='index')\n",
    "trans"
   ]
  },
  {
   "cell_type": "code",
   "execution_count": 7,
   "metadata": {},
   "outputs": [],
   "source": [
    "# transform the transition probability matrix to a numpy array for matrix multiplication\n",
    "prob = np.array(trans)"
   ]
  },
  {
   "cell_type": "code",
   "execution_count": 8,
   "metadata": {},
   "outputs": [
    {
     "name": "stdout",
     "output_type": "stream",
     "text": [
      "Doughnut\n",
      "churned\n",
      "churned\n",
      "churned\n",
      "churned\n",
      "churned\n",
      "churned\n",
      "churned\n",
      "churned\n",
      "churned\n",
      "churned\n",
      "churned\n"
     ]
    }
   ],
   "source": [
    "init = initial_state(STATES[:-1])\n",
    "HISTORY.append(init)\n",
    "print(init)\n",
    "new_state = next_state(init, prob, STATES, D)\n",
    "HISTORY.append(new_state)\n",
    "print(new_state)\n",
    "\n",
    "for i in range(N):\n",
    "    new_state = next_state(new_state, prob, STATES, D)\n",
    "    HISTORY.append(new_state)\n",
    "    print(new_state)"
   ]
  },
  {
   "cell_type": "code",
   "execution_count": 9,
   "metadata": {},
   "outputs": [
    {
     "data": {
      "text/plain": [
       "['Doughnut',\n",
       " 'churned',\n",
       " 'churned',\n",
       " 'churned',\n",
       " 'churned',\n",
       " 'churned',\n",
       " 'churned',\n",
       " 'churned',\n",
       " 'churned',\n",
       " 'churned',\n",
       " 'churned',\n",
       " 'churned']"
      ]
     },
     "execution_count": 9,
     "metadata": {},
     "output_type": "execute_result"
    }
   ],
   "source": [
    "HISTORY"
   ]
  },
  {
   "cell_type": "code",
   "execution_count": null,
   "metadata": {},
   "outputs": [],
   "source": []
  }
 ],
 "metadata": {
  "kernelspec": {
   "display_name": "Python 3",
   "language": "python",
   "name": "python3"
  },
  "language_info": {
   "codemirror_mode": {
    "name": "ipython",
    "version": 3
   },
   "file_extension": ".py",
   "mimetype": "text/x-python",
   "name": "python",
   "nbconvert_exporter": "python",
   "pygments_lexer": "ipython3",
   "version": "3.6.7"
  }
 },
 "nbformat": 4,
 "nbformat_minor": 2
}
