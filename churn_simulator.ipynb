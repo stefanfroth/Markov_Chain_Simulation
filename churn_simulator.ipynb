{
 "cells": [
  {
   "cell_type": "markdown",
   "metadata": {},
   "source": [
    "Challenge: Write a Churn Simulator\n",
    "==================================\n",
    "\n",
    "- Start with a single customer in a random initial state (A, B, C)\n",
    " * What data type to use for the customer state?\n",
    "- Change the state randomly using a transition probability matrix P\n",
    " * What values to use for the probability matrix?\n",
    " * What data type to use for the probability matrix\n",
    "- Simulate N time steps in the same way\n",
    "- write the sequence of states to an output file\n",
    " * What is the overall structure of the program?\n",
    "\n",
    "--------------------------------------\n",
    "\n",
    "- Do the same but for M customers\n",
    "- Add new customers to the system at every time step\n",
    "- Structure the code, clean it up, put it on GitHub etc.\n",
    " * What functions do I need?\n",
    "\n",
    "--------------------------------------\n",
    "\n",
    "OPTIONAL:\n",
    "\n",
    "- Price the products, estimate customer lifetime value (CLV)\n",
    "- Plot the number of customers in each state\n",
    "- Try to find a steady state"
   ]
  },
  {
   "cell_type": "code",
   "execution_count": null,
   "metadata": {},
   "outputs": [],
   "source": []
  }
 ],
 "metadata": {
  "kernelspec": {
   "display_name": "Python 3",
   "language": "python",
   "name": "python3"
  },
  "language_info": {
   "codemirror_mode": {
    "name": "ipython",
    "version": 3
   },
   "file_extension": ".py",
   "mimetype": "text/x-python",
   "name": "python",
   "nbconvert_exporter": "python",
   "pygments_lexer": "ipython3",
   "version": "3.6.7"
  }
 },
 "nbformat": 4,
 "nbformat_minor": 2
}
